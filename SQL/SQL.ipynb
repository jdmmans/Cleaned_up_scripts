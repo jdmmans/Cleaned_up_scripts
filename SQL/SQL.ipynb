{
 "cells": [
  {
   "cell_type": "code",
   "execution_count": 80,
   "metadata": {},
   "outputs": [
    {
     "name": "stdout",
     "output_type": "stream",
     "text": [
      "The sql extension is already loaded. To reload it, use:\n",
      "  %reload_ext sql\n"
     ]
    }
   ],
   "source": [
    "%load_ext sql\n",
    "## %sql indicates that specific line is in SQL, everything else is python\n",
    "## %%sql means the entire cell is SQL\n",
    "## -- generally refers to a comment, except in certain instances such as --persist"
   ]
  },
  {
   "cell_type": "code",
   "execution_count": 81,
   "metadata": {},
   "outputs": [
    {
     "name": "stdout",
     "output_type": "stream",
     "text": [
      "Done.\n",
      "Done.\n",
      "Done.\n"
     ]
    },
    {
     "data": {
      "text/html": [
       "<table>\n",
       "    <tr>\n",
       "        <th>Student_ID</th>\n",
       "        <th>First_Name</th>\n",
       "        <th>Last_Name</th>\n",
       "        <th>Scabbyness</th>\n",
       "    </tr>\n",
       "</table>"
      ],
      "text/plain": [
       "[]"
      ]
     },
     "execution_count": 81,
     "metadata": {},
     "output_type": "execute_result"
    }
   ],
   "source": [
    "%%sql sqlite:// \n",
    "DROP TABLE IF EXISTS Student;\n",
    "CREATE TABLE Student(\n",
    "        Student_ID INTEGER NOT NULL,\n",
    "        First_Name TEXT NOT NULL,\n",
    "        Last_Name TEXT,\n",
    "        Scabbyness REAL \n",
    ");\n",
    "SELECT * FROM Student -- create basic table for experiment purposes"
   ]
  },
  {
   "cell_type": "code",
   "execution_count": 82,
   "metadata": {},
   "outputs": [
    {
     "name": "stdout",
     "output_type": "stream",
     "text": [
      " * sqlite://\n",
      "3 rows affected.\n"
     ]
    },
    {
     "data": {
      "text/plain": [
       "[]"
      ]
     },
     "execution_count": 82,
     "metadata": {},
     "output_type": "execute_result"
    }
   ],
   "source": [
    "%%sql\n",
    "INSERT INTO Student -- inserting values into table\n",
    "VALUES\n",
    "    (1,\"John\", \"S\", 0.12),\n",
    "    (2, \"Matt\", \"S\", 1 ),\n",
    "    (3,\"John\", \"K\", 1);"
   ]
  },
  {
   "cell_type": "code",
   "execution_count": 83,
   "metadata": {},
   "outputs": [
    {
     "name": "stdout",
     "output_type": "stream",
     "text": [
      " * sqlite://\n",
      "Done.\n"
     ]
    },
    {
     "data": {
      "text/html": [
       "<table>\n",
       "    <tr>\n",
       "        <th>Student_ID</th>\n",
       "        <th>First_Name</th>\n",
       "        <th>Last_Name</th>\n",
       "        <th>Scabbyness</th>\n",
       "    </tr>\n",
       "    <tr>\n",
       "        <td>3</td>\n",
       "        <td>John</td>\n",
       "        <td>K</td>\n",
       "        <td>1.0</td>\n",
       "    </tr>\n",
       "</table>"
      ],
      "text/plain": [
       "[(3, 'John', 'K', 1.0)]"
      ]
     },
     "execution_count": 83,
     "metadata": {},
     "output_type": "execute_result"
    }
   ],
   "source": [
    "%%sql \n",
    "SELECT *\n",
    "FROM Student\n",
    "GROUP BY Student_ID\n",
    "HAVING First_Name = \"John\" AND Scabbyness = \"1\" -- filtering based on multiple variables"
   ]
  },
  {
   "cell_type": "code",
   "execution_count": 84,
   "metadata": {},
   "outputs": [
    {
     "name": "stdout",
     "output_type": "stream",
     "text": [
      " * sqlite://\n",
      "1 rows affected.\n"
     ]
    },
    {
     "data": {
      "text/plain": [
       "[]"
      ]
     },
     "execution_count": 84,
     "metadata": {},
     "output_type": "execute_result"
    }
   ],
   "source": [
    "%%sql\n",
    "UPDATE Student \n",
    "   SET Scabbyness = '12'\n",
    " WHERE First_Name = \"John\" AND Last_Name = \"K\"; -- updating entry to reflect true scabbyness"
   ]
  },
  {
   "cell_type": "code",
   "execution_count": 33,
   "metadata": {},
   "outputs": [
    {
     "name": "stdout",
     "output_type": "stream",
     "text": [
      " * sqlite://\n",
      "Done.\n",
      "Done.\n",
      "2 rows affected.\n"
     ]
    },
    {
     "data": {
      "text/plain": [
       "[]"
      ]
     },
     "execution_count": 33,
     "metadata": {},
     "output_type": "execute_result"
    }
   ],
   "source": [
    "%%sql \n",
    "DROP TABLE IF EXISTS Scabs; --drop table if exists\n",
    "CREATE TABLE Scabs (Student_ID INTEGER NOT NULL, -- create table\n",
    "        First_Name TEXT NOT NULL,\n",
    "        Last_Name TEXT,\n",
    "        Scabbyness REAL \n",
    ");\n",
    "\n",
    "INSERT INTO Scabs ( Student_ID, First_Name ) -- inserting values into new table from old table based on filter\n",
    "SELECT Student_ID, First_Name\n",
    "FROM Student\n",
    "GROUP BY Student_ID\n",
    "HAVING Scabbyness > .5"
   ]
  },
  {
   "cell_type": "code",
   "execution_count": 130,
   "metadata": {},
   "outputs": [
    {
     "name": "stdout",
     "output_type": "stream",
     "text": [
      " * sqlite://\n",
      "Done.\n"
     ]
    },
    {
     "data": {
      "text/html": [
       "<table>\n",
       "    <tr>\n",
       "        <th>Student_ID</th>\n",
       "        <th>First_Name</th>\n",
       "    </tr>\n",
       "    <tr>\n",
       "        <td>3</td>\n",
       "        <td>John</td>\n",
       "    </tr>\n",
       "    <tr>\n",
       "        <td>2</td>\n",
       "        <td>Matt</td>\n",
       "    </tr>\n",
       "</table>"
      ],
      "text/plain": [
       "[(3, 'John'), (2, 'Matt')]"
      ]
     },
     "execution_count": 130,
     "metadata": {},
     "output_type": "execute_result"
    }
   ],
   "source": [
    "%%sql \n",
    "SELECT Student_ID, First_Name --print off table\n",
    "FROM Scabs\n",
    "ORDER BY Student_ID DESC"
   ]
  },
  {
   "cell_type": "code",
   "execution_count": 74,
   "metadata": {},
   "outputs": [
    {
     "name": "stdout",
     "output_type": "stream",
     "text": [
      " * sqlite://\n",
      "Done.\n"
     ]
    },
    {
     "data": {
      "text/html": [
       "<table>\n",
       "    <tr>\n",
       "        <th>Student_ID</th>\n",
       "        <th>First_Name</th>\n",
       "        <th>Last_Name</th>\n",
       "        <th>Scabbyness</th>\n",
       "    </tr>\n",
       "    <tr>\n",
       "        <td>2</td>\n",
       "        <td>Matt</td>\n",
       "        <td>S</td>\n",
       "        <td>1.0</td>\n",
       "    </tr>\n",
       "    <tr>\n",
       "        <td>3</td>\n",
       "        <td>John</td>\n",
       "        <td>K</td>\n",
       "        <td>1.0</td>\n",
       "    </tr>\n",
       "</table>"
      ],
      "text/plain": [
       "[(2, 'Matt', 'S', 1.0), (3, 'John', 'K', 1.0)]"
      ]
     },
     "execution_count": 74,
     "metadata": {},
     "output_type": "execute_result"
    }
   ],
   "source": [
    "## turning SQL table into dataframe\n",
    "results = %sql SELECT * FROM Student WHERE (\"Student_ID\" % 2) = 0 OR (\"Student_ID\" % 3) = 0\n",
    "dataframe = results.DataFrame()\n",
    "results"
   ]
  },
  {
   "cell_type": "code",
   "execution_count": 68,
   "metadata": {},
   "outputs": [
    {
     "name": "stdout",
     "output_type": "stream",
     "text": [
      " * sqlite://\n"
     ]
    },
    {
     "data": {
      "text/plain": [
       "'Persisted state_results'"
      ]
     },
     "execution_count": 68,
     "metadata": {},
     "output_type": "execute_result"
    }
   ],
   "source": [
    "## Dataframe to SQL table\n",
    "bent = pd.read_csv('C:/Users/Julius/Downloads/Aus_elections/bentleighdistrict.csv')\n",
    "wanted1 = bent['Total_Votes_Polled']\n",
    "wanted2 = bent['ALP_Approx_%']\n",
    "State_results = pd.DataFrame(\n",
    "    {'ALP_percent': wanted2,\n",
    "        'Votes': wanted1,\n",
    "    })\n",
    "State_results ## created DF\n",
    "\n",
    "%sql --persist State_results"
   ]
  },
  {
   "cell_type": "code",
   "execution_count": 71,
   "metadata": {},
   "outputs": [
    {
     "name": "stdout",
     "output_type": "stream",
     "text": [
      " * sqlite://\n",
      "Done.\n"
     ]
    },
    {
     "data": {
      "text/html": [
       "<table>\n",
       "    <tr>\n",
       "        <th>ALP_percent</th>\n",
       "        <th>Votes</th>\n",
       "    </tr>\n",
       "    <tr>\n",
       "        <td>0.6186919946</td>\n",
       "        <td>39129.0</td>\n",
       "    </tr>\n",
       "    <tr>\n",
       "        <td>0.6445773624000001</td>\n",
       "        <td>20492.0</td>\n",
       "    </tr>\n",
       "    <tr>\n",
       "        <td>0.590349062</td>\n",
       "        <td>18637.0</td>\n",
       "    </tr>\n",
       "    <tr>\n",
       "        <td>0.6004891684</td>\n",
       "        <td>12071.0</td>\n",
       "    </tr>\n",
       "    <tr>\n",
       "        <td>0.5399298154</td>\n",
       "        <td>4077.0</td>\n",
       "    </tr>\n",
       "    <tr>\n",
       "        <td>0.6213653484</td>\n",
       "        <td>2308.0</td>\n",
       "    </tr>\n",
       "    <tr>\n",
       "        <td>0.6641542056</td>\n",
       "        <td>2273.0</td>\n",
       "    </tr>\n",
       "    <tr>\n",
       "        <td>0.6499744507</td>\n",
       "        <td>2071.0</td>\n",
       "    </tr>\n",
       "    <tr>\n",
       "        <td>0.6202282158</td>\n",
       "        <td>2027.0</td>\n",
       "    </tr>\n",
       "    <tr>\n",
       "        <td>0.6646990741</td>\n",
       "        <td>1825.0</td>\n",
       "    </tr>\n",
       "    <tr>\n",
       "        <td>0.6229604366</td>\n",
       "        <td>1582.0</td>\n",
       "    </tr>\n",
       "    <tr>\n",
       "        <td>0.6333837689</td>\n",
       "        <td>1545.0</td>\n",
       "    </tr>\n",
       "    <tr>\n",
       "        <td>0.6051362683</td>\n",
       "        <td>1508.0</td>\n",
       "    </tr>\n",
       "    <tr>\n",
       "        <td>0.6573749094</td>\n",
       "        <td>1490.0</td>\n",
       "    </tr>\n",
       "    <tr>\n",
       "        <td>0.6553599374</td>\n",
       "        <td>1348.0</td>\n",
       "    </tr>\n",
       "    <tr>\n",
       "        <td>0.6479886147999999</td>\n",
       "        <td>1140.0</td>\n",
       "    </tr>\n",
       "    <tr>\n",
       "        <td>0.6438668099</td>\n",
       "        <td>988.0</td>\n",
       "    </tr>\n",
       "    <tr>\n",
       "        <td>0.6572467222999999</td>\n",
       "        <td>895.0</td>\n",
       "    </tr>\n",
       "    <tr>\n",
       "        <td>0.632968254</td>\n",
       "        <td>679.0</td>\n",
       "    </tr>\n",
       "    <tr>\n",
       "        <td>0.6818566176</td>\n",
       "        <td>590.0</td>\n",
       "    </tr>\n",
       "    <tr>\n",
       "        <td>0.6568862275</td>\n",
       "        <td>531.0</td>\n",
       "    </tr>\n",
       "    <tr>\n",
       "        <td>0.6605263158</td>\n",
       "        <td>181.0</td>\n",
       "    </tr>\n",
       "    <tr>\n",
       "        <td>None</td>\n",
       "        <td>None</td>\n",
       "    </tr>\n",
       "</table>"
      ],
      "text/plain": [
       "[(0.6186919946, 39129.0),\n",
       " (0.6445773624000001, 20492.0),\n",
       " (0.590349062, 18637.0),\n",
       " (0.6004891684, 12071.0),\n",
       " (0.5399298154, 4077.0),\n",
       " (0.6213653484, 2308.0),\n",
       " (0.6641542056, 2273.0),\n",
       " (0.6499744507, 2071.0),\n",
       " (0.6202282158, 2027.0),\n",
       " (0.6646990741, 1825.0),\n",
       " (0.6229604366, 1582.0),\n",
       " (0.6333837689, 1545.0),\n",
       " (0.6051362683, 1508.0),\n",
       " (0.6573749094, 1490.0),\n",
       " (0.6553599374, 1348.0),\n",
       " (0.6479886147999999, 1140.0),\n",
       " (0.6438668099, 988.0),\n",
       " (0.6572467222999999, 895.0),\n",
       " (0.632968254, 679.0),\n",
       " (0.6818566176, 590.0),\n",
       " (0.6568862275, 531.0),\n",
       " (0.6605263158, 181.0),\n",
       " (None, None)]"
      ]
     },
     "execution_count": 71,
     "metadata": {},
     "output_type": "execute_result"
    }
   ],
   "source": [
    "# Pulling up SQL table created from Pandas dataframe\n",
    "%sql SELECT ALP_percent, Votes FROM State_results ORDER BY Votes DESC"
   ]
  }
 ],
 "metadata": {
  "kernelspec": {
   "display_name": "Python 3",
   "language": "python",
   "name": "python3"
  },
  "language_info": {
   "codemirror_mode": {
    "name": "ipython",
    "version": 3
   },
   "file_extension": ".py",
   "mimetype": "text/x-python",
   "name": "python",
   "nbconvert_exporter": "python",
   "pygments_lexer": "ipython3",
   "version": "3.9.0"
  }
 },
 "nbformat": 4,
 "nbformat_minor": 4
}
