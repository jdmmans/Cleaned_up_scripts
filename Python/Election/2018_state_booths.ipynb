{
 "cells": [
  {
   "cell_type": "code",
   "execution_count": 130,
   "metadata": {},
   "outputs": [],
   "source": [
    "import numpy as np ## load in numpy\n",
    "import pandas as pd ## loading in panda commands"
   ]
  },
  {
   "cell_type": "code",
   "execution_count": 131,
   "metadata": {},
   "outputs": [],
   "source": [
    "## loading in and setting variables preliminary manipulation ## easy to read but complex version\n",
    "caulf = pd.read_csv('C:/Users/Julius/Downloads/caulfielddistrict.csv') ## caulfield 2018 state booth data\n",
    "sandy = pd.read_csv('C:/Users/Julius/Downloads/sandringhamdistrict.csv')\n",
    "bright = pd.read_csv('C:/Users/Julius/Downloads/brightondistrict.csv')\n",
    "bent = pd.read_csv('C:/Users/Julius/Downloads/bentleighdistrict.csv')\n"
   ]
  },
  {
   "cell_type": "code",
   "execution_count": 132,
   "metadata": {},
   "outputs": [],
   "source": [
    "## Turning the raw state data into a workable formatw\n",
    "ALP_2pp = list(bent['ALP_Approx_%']) + list(bright['ALP_Approx_%']) + list(caulf['ALP_Approx_%']) + list(sandy['ALP_Approx_%']) ## make electorate 2pp into list\n",
    "Booth = list(bent['Polling_booth']) + list(bright['Polling_booth']) + list(caulf['Polling_booth']) + list(sandy['Polling_booth']) ## make booth of 2pp into list\n",
    "\n",
    "## Turning these lists into one data frame\n",
    "State_results = pd.DataFrame(\n",
    "    {'2pp': ALP_2pp,\n",
    "     'Booth': Booth\n",
    "    })\n",
    "\n",
    "## removing the useless data points\n",
    "Not_wanted = ('Marked as Voted','Early Vote','Postal Vote','Provisional','TOTAL ALL VOTE TYPES',\n",
    "              'Total Ordinary Votes','Absent','Percentage of Formal Vote\\nPolled By Candidate\\n') \n",
    "State_results_final = State_results[~(State_results['Booth'].isin(Not_wanted)) & (State_results['2pp'] != 'NaN')]\n",
    "State_booths = list(State_results_final['Booth'])"
   ]
  },
  {
   "cell_type": "code",
   "execution_count": 133,
   "metadata": {},
   "outputs": [],
   "source": [
    "## Loading in the deferal data\n",
    "All = pd.read_csv('C:/Users/Julius/Downloads/HouseTppByPollingPlaceDownload-24310.csv')\n",
    "Gold = All[All['DivisionNm'] == 'Goldstein']"
   ]
  },
  {
   "cell_type": "code",
   "execution_count": 135,
   "metadata": {},
   "outputs": [],
   "source": [
    "## Isolating which booths have direct replacements available, and which will need a sub\n",
    "Not_in_State = Gold[~(Gold['PollingPlace'].isin(State_booths))]\n",
    "In_state = Gold[(Gold['PollingPlace'].isin(State_booths))]\n",
    "Covered = list(In_state['PollingPlace'])"
   ]
  },
  {
   "cell_type": "code",
   "execution_count": 137,
   "metadata": {},
   "outputs": [],
   "source": [
    "## Create dictionary with fed terms to be replaced and state equiv\n",
    "d = {'Bentleigh Central (Goldstein)':'Bentleigh Central','Brighton South':'Dendy','Beaumaris East (Goldstein)':'Mentone','Moorabbin South (Goldstein)':'Moorabbin South',\n",
    "    'Elsternwick North (Goldstein)':'Elsternwick North','Cheltenham (Goldstein)':'Cheltenham','Highett (Goldstein)':'Highett South','Highett West':'Highett',\n",
    "    'Glenhuntly':'Ormond','Glenhuntly East (Goldstein)':'Glenhuntly East','McKinnon East (Goldstein)':'McKinnon East','Elsternwick (Goldstein)':'Elsternwick',\n",
    "    'Elsternwick Central':'Clarence'}"
   ]
  },
  {
   "cell_type": "code",
   "execution_count": 147,
   "metadata": {},
   "outputs": [
    {
     "name": "stderr",
     "output_type": "stream",
     "text": [
      "<ipython-input-147-86006a9a9fa1>:33: SettingWithCopyWarning: \n",
      "A value is trying to be set on a copy of a slice from a DataFrame.\n",
      "Try using .loc[row_indexer,col_indexer] = value instead\n",
      "\n",
      "See the caveats in the documentation: https://pandas.pydata.org/pandas-docs/stable/user_guide/indexing.html#returning-a-view-versus-a-copy\n",
      "  State_results_replacements['PollingPlace2'] = pp # add back in polling place column\n",
      "<ipython-input-147-86006a9a9fa1>:40: SettingWithCopyWarning: \n",
      "A value is trying to be set on a copy of a slice from a DataFrame.\n",
      "Try using .loc[row_indexer,col_indexer] = value instead\n",
      "\n",
      "See the caveats in the documentation: https://pandas.pydata.org/pandas-docs/stable/user_guide/indexing.html#returning-a-view-versus-a-copy\n",
      "  Gold_non_replacements['PollingPlace2'] = pp2 # add back in polling place\n"
     ]
    }
   ],
   "source": [
    "## Invert dictionary into a useful tool for the state data points into federal ones\n",
    "inv_d = {v: k for k, v in d.items()}\n",
    "\n",
    "# Setting Goldstein at start\n",
    "Gold = All[All['DivisionNm'] == 'Goldstein']\n",
    "\n",
    "## Drop the votes columns\n",
    "del Gold['Liberal/National Coalition Votes']\n",
    "del Gold['Liberal/National Coalition Percentage']\n",
    "del Gold['Australian Labor Party Votes']\n",
    "del Gold['TotalVotes']\n",
    "del Gold['Swing']\n",
    "\n",
    "## Create a list of booths + ALP % for ones without state equivalent\n",
    "Gold_non_reps = Gold.replace(d) ## create Goldstein results with state booth names\n",
    "Gold_non_replacements = Gold_non_reps[~(Gold_non_reps['PollingPlace'].isin(State_booths))] ## remove state booth names to leave fed only\n",
    "\n",
    "## Setup for next step, create list of replaceable Goldstein polling places, get all data from those places\n",
    "lst_Gold_non_reps = list(Gold_non_reps['PollingPlace'])\n",
    "Gold_reps = Gold_non_reps[(Gold_non_reps['PollingPlace'].isin(State_booths))]\n",
    "\n",
    "## Append Federal data to have state TPP in place of fed\n",
    "State_results_final.replace(d) # Change state booths to new names\n",
    "State_results_replacements = State_results_final[State_results_final['Booth'].isin(lst_Gold_non_reps)] # Filter non Goldstein polling booth names\n",
    "\n",
    "## create polling places list\n",
    "pp = list(State_results_replacements['Booth'])\n",
    "pp2 = list(Gold_non_replacements['PollingPlace'])\n",
    "\n",
    "## rejoining of data sets\n",
    "Gold_reps.set_index('PollingPlace', inplace = True) # Index Gold with replacement by polling place, \n",
    "State_results_replacements.set_index('Booth', inplace = True) # Index state level with replacement by polling place,\n",
    "State_results_replacements['PollingPlace2'] = pp # add back in polling place column\n",
    "intr = Gold_reps.join(State_results_replacements) # join df's, \n",
    "del intr['Australian Labor Party Percentage'] # drop Australian Labor Party Percentage, \n",
    "ALP = intr['2pp']*100 # make percentages from 0.x\n",
    "del intr['2pp'] # delete state 2pp\n",
    "intr['Australian Labor Party Percentage'] = ALP # add in state 2pp\n",
    "Gold_non_replacements.set_index('PollingPlace', inplace = True) # set index to booth\n",
    "Gold_non_replacements['PollingPlace2'] = pp2 # add back in polling place\n",
    "Final = Gold_non_replacements.merge(intr, how= 'outer') # merge dataframes\n",
    "\n",
    "## renaming variables\n",
    "pp = Final['PollingPlace2'] # make list of polling place2\n",
    "del Final['PollingPlace2']\n",
    "Final['PollingPlace'] = pp # add in polling place again\n",
    "Final = Final.replace(inv_d)\n",
    "## print out results to CSV\n",
    "Final.to_csv('C:/Users/Julius/Downloads/Fed2019_via_State.csv', sep=',')"
   ]
  },
  {
   "cell_type": "code",
   "execution_count": null,
   "metadata": {},
   "outputs": [],
   "source": []
  }
 ],
 "metadata": {
  "kernelspec": {
   "display_name": "Python 3",
   "language": "python",
   "name": "python3"
  },
  "language_info": {
   "codemirror_mode": {
    "name": "ipython",
    "version": 3
   },
   "file_extension": ".py",
   "mimetype": "text/x-python",
   "name": "python",
   "nbconvert_exporter": "python",
   "pygments_lexer": "ipython3",
   "version": "3.9.0"
  }
 },
 "nbformat": 4,
 "nbformat_minor": 4
}
