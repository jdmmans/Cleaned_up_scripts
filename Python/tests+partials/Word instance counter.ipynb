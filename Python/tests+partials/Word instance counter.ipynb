{
 "cells": [
  {
   "cell_type": "markdown",
   "metadata": {},
   "source": [
    "Turn random junk into word count"
   ]
  },
  {
   "cell_type": "code",
   "execution_count": null,
   "metadata": {},
   "outputs": [],
   "source": [
    "f = open('C:/Users/Augustus/Desktop/a/bee_movie_script.txt')"
   ]
  },
  {
   "cell_type": "code",
   "execution_count": null,
   "metadata": {},
   "outputs": [],
   "source": [
    "x = f.read().split()\n",
    "## every word is now its own element in a list"
   ]
  },
  {
   "cell_type": "code",
   "execution_count": null,
   "metadata": {},
   "outputs": [],
   "source": [
    "x = [re.sub(r'\\W', '', i) for i in x]\n",
    "x = [item.lower() for item in x]\n",
    "x\n",
    "## every element has no special characters"
   ]
  },
  {
   "cell_type": "code",
   "execution_count": null,
   "metadata": {
    "scrolled": false
   },
   "outputs": [],
   "source": [
    "def unique_elements(list1, list2):\n",
    "     return set(set(list1) ^ set(list2))\n",
    "to_remove = [\"yall\", \"a\", \"i\", \"the\"]\n",
    "keep = unique_elements(x, to_remove)\n",
    "better = [i for i in x if  i in keep]\n",
    "better\n",
    "## removing all instances of the forbidden words"
   ]
  },
  {
   "cell_type": "code",
   "execution_count": null,
   "metadata": {},
   "outputs": [],
   "source": [
    "z = list(set(better))\n",
    "z = sorted(z, key=str.lower)\n",
    "z = [[x,better.count(x)] for x in z]\n",
    "z\n",
    "## every word now has a count associated with it"
   ]
  },
  {
   "cell_type": "code",
   "execution_count": null,
   "metadata": {},
   "outputs": [],
   "source": [
    "q = sorted(z, key=lambda z: int(z[1]), reverse=True)\n",
    "for i in q:\n",
    "    if int(i[1] >= 5):\n",
    "        print(i)\n",
    "## words in Bee movie script sorted by incidence, assuming equal to or greater than 5 occurences"
   ]
  },
  {
   "cell_type": "code",
   "execution_count": null,
   "metadata": {},
   "outputs": [],
   "source": [
    "%%capture cap --no-stderr\n",
    "print(q[:25])"
   ]
  },
  {
   "cell_type": "code",
   "execution_count": null,
   "metadata": {},
   "outputs": [],
   "source": [
    "with open('output.txt', 'w') as f:\n",
    "    f.write(cap.stdout)"
   ]
  }
 ],
 "metadata": {
  "kernelspec": {
   "display_name": "Python 3",
   "language": "python",
   "name": "python3"
  },
  "language_info": {
   "codemirror_mode": {
    "name": "ipython",
    "version": 3
   },
   "file_extension": ".py",
   "mimetype": "text/x-python",
   "name": "python",
   "nbconvert_exporter": "python",
   "pygments_lexer": "ipython3",
   "version": "3.7.4"
  }
 },
 "nbformat": 4,
 "nbformat_minor": 2
}
